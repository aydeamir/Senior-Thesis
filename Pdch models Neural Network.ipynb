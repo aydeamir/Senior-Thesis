{
 "cells": [
  {
   "cell_type": "markdown",
   "id": "steady-value",
   "metadata": {},
   "source": [
    "**Model 1**: Weights distributed in a way that complete similarity between two vectors is given weight zero. Aside that, the higher the similarty (lower distance) the higher the weight between two neurons.\n",
    "\n",
    "**Model 2**: Weights distributed in a way that complete similarity and no similarity between two vectors is given weight zero. Aside that, the higher the similarty (lower distance) the lower the weight between two neurons.\n",
    "\n",
    "**Baseline 1**: Weights connected randomly (gaussian). \n",
    "\n",
    "**Baseline 2**: Weights all given a weight of zero."
   ]
  },
  {
   "cell_type": "code",
   "execution_count": 74,
   "id": "criminal-oklahoma",
   "metadata": {},
   "outputs": [],
   "source": [
    "#Download Necessary packages\n",
    "import torch\n",
    "import torchvision \n",
    "from torchvision import datasets, transforms\n",
    "from torch.utils.data import DataLoader\n",
    "import torch.nn as nn\n",
    "import torch.nn.functional as F\n",
    "import torch.optim as optim\n",
    "\n",
    "import numpy as np\n",
    "import matplotlib.pyplot as plt"
   ]
  },
  {
   "cell_type": "code",
   "execution_count": 75,
   "id": "noticed-overall",
   "metadata": {},
   "outputs": [
    {
     "data": {
      "image/png": "[encoded data removed]",
      "text/plain": [
       "<Figure size 432x288 with 1 Axes>"
      ]
     },
     "metadata": {
      "needs_background": "light"
     },
     "output_type": "display_data"
    },
    {
     "name": "stdout",
     "output_type": "stream",
     "text": [
      "Label is 5\n"
     ]
    },
    {
     "data": {
      "image/png": "[encoded data removed]",
      "text/plain": [
       "<Figure size 432x288 with 1 Axes>"
      ]
     },
     "metadata": {
      "needs_background": "light"
     },
     "output_type": "display_data"
    },
    {
     "name": "stdout",
     "output_type": "stream",
     "text": [
      "Label is 7\n"
     ]
    }
   ],
   "source": [
    "#Visualize data\n",
    "data_train = datasets.MNIST(root='./data', \n",
    "                            train = True, \n",
    "                            download=True)\n",
    "\n",
    "data_test = datasets.MNIST(root='./data',\n",
    "                           train = False, \n",
    "                           download = True)\n",
    "\n",
    "train_image = data_train[0][0]\n",
    "train_image_label = data_train[0][1]\n",
    "\n",
    "test_image = data_test[0][0]\n",
    "test_image_label = data_test[0][1]\n",
    "\n",
    "# Print the Image using Matplotlib\n",
    "#Display first image in trainset\n",
    "plt.title(\"First Image in Train dataset\")\n",
    "plt.imshow(train_image)\n",
    "plt.show()\n",
    "print('Label is', train_image_label)\n",
    "#Display first image in testset\n",
    "plt.title(\"First Image in Test dataset\")\n",
    "plt.imshow(test_image)\n",
    "plt.show()\n",
    "print('Label is', test_image_label)"
   ]
  },
  {
   "cell_type": "code",
   "execution_count": 76,
   "id": "83ad7424",
   "metadata": {},
   "outputs": [],
   "source": [
    "#Download data and split into train and test images\n",
    "train_dataset = datasets.MNIST(root='./data', \n",
    "                            train=True, \n",
    "                            transform=transforms.ToTensor(),\n",
    "                            download=True)\n",
    "\n",
    "test_dataset = datasets.MNIST(root='./data', \n",
    "                           train=False, \n",
    "                           transform=transforms.ToTensor())\n",
    "\n",
    "#Initialize batch size\n",
    "batch_size = 100\n",
    "\n",
    "#Seprate data into batches\n",
    "train_loader = DataLoader(dataset=train_dataset, \n",
    "                                           batch_size=batch_size, \n",
    "                                           shuffle=True, num_workers = 4)\n",
    "\n",
    "test_loader = DataLoader(dataset=test_dataset, \n",
    "                                          batch_size=batch_size, \n",
    "                                          shuffle=False, num_workers = 4)"
   ]
  },
  {
   "cell_type": "markdown",
   "id": "649e2661",
   "metadata": {},
   "source": [
    "**Neural Network Architecture**"
   ]
  },
  {
   "cell_type": "code",
   "execution_count": 101,
   "id": "d7dbe937",
   "metadata": {},
   "outputs": [],
   "source": [
    "#Building Neural Network\n",
    "class FFNN(nn.Module):\n",
    "    \"\"\"Simple Feed Forward Neural Network with 1 hidden layer\"\"\"\n",
    "    def __init__(self):\n",
    "        super().__init__()\n",
    "        self.accuracy_function = accuracy\n",
    "        \n",
    "        # Create first hidden layer\n",
    "        self.input_layer = nn.Linear(784, 78)\n",
    "        \n",
    "        # Create output layer\n",
    "        self.output_layer = nn.Linear(78, 10)\n",
    "       \n",
    "    def forward(self, input_image):\n",
    "        # Flatten image\n",
    "        input_image = input_image.view(input_image.size(0), -1)\n",
    "        \n",
    "        # Utilize hidden layers and apply activation function\n",
    "        output = self.input_layer(input_image)\n",
    "        output = F.relu(output)\n",
    "        \n",
    "        # Get predictions\n",
    "        output = self.output_layer(output)\n",
    "        output = F.softmax(output, dim = 1)\n",
    "        return output\n",
    "\n",
    "    def training_step(self, batch):\n",
    "        # Load batch\n",
    "        images, labels = batch\n",
    "        \n",
    "        # Generate predictions\n",
    "        output = self(images) \n",
    "        \n",
    "        # Calculate loss\n",
    "        loss = F.cross_entropy(output, labels)\n",
    "        return loss\n",
    "    \n",
    "    def testing_step(self, batch):\n",
    "        # Load batch\n",
    "        images, labels = batch \n",
    "\n",
    "        # Generate predictions\n",
    "        output = self(images) \n",
    "        \n",
    "        # Calculate loss\n",
    "        loss = F.cross_entropy(output, labels)\n",
    "\n",
    "        # Calculate accuracy\n",
    "        acc = self.accuracy_function(output, labels)\n",
    "        \n",
    "        return {'test_loss': loss, 'test_acc': acc}\n",
    "        \n",
    "    def testing_epoch_end(self, outputs):\n",
    "        batch_losses = [x['test_loss'] for x in outputs]\n",
    "        \n",
    "        # Combine losses and return mean value\n",
    "        epoch_loss = torch.stack(batch_losses).mean()\n",
    "        \n",
    "        # Combine accuracies and return mean value\n",
    "        batch_accs = [x['test_acc'] for x in outputs]\n",
    "        epoch_acc = torch.stack(batch_accs).mean()\n",
    "        return {'test_loss': epoch_loss.item(), 'test_acc': epoch_acc.item()}\n",
    "    \n",
    "    def epoch_end(self, epoch, result):\n",
    "        print(\"Epoch: {} - Testing Loss: {:.4f}, Testing Accuracy: {:.4f}\".format(epoch, result['test_loss'], \n",
    "                                                                                  result['test_acc']))\n",
    "def accuracy(outputs, labels):\n",
    "        _, preds = torch.max(outputs, dim=1)\n",
    "        return torch.tensor(torch.sum(preds == labels).item()*100/ len(preds))\n",
    "    \n",
    "def plot_history(history):\n",
    "        losses = [x['test_loss'] for x in history]\n",
    "        plt.plot(losses, '-x')\n",
    "        plt.xlabel('Epoch')\n",
    "        plt.ylabel('Loss')\n",
    "\n",
    "        accuracies = [x['test_acc'] for x in history]\n",
    "        plt.plot(accuracies, '-x')\n",
    "        plt.xlabel('Epoch')\n",
    "        plt.ylabel('Accuracy')\n",
    "        plt.legend(['Loss', 'Accuracy'])\n",
    "        plt.title('Loss and Accuracy');\n",
    "        \n",
    "def list_acc(history):\n",
    "    acc = [x['test_acc'] for x in history]\n",
    "    return acc \n",
    "\n",
    "def list_loss(history):\n",
    "    losses = [x['test_loss'] for x in history]\n",
    "    return losses"
   ]
  },
  {
   "cell_type": "code",
   "execution_count": 102,
   "id": "d5bb0c14",
   "metadata": {},
   "outputs": [],
   "source": [
    "#initalize epoch number\n",
    "epochs  = 5\n",
    "\n",
    "#NN trainer\n",
    "class ModelTrainer():   \n",
    "    def fit(self, model, train_loader, test_loader):\n",
    "        history = []\n",
    "        optimizer = optim.Adam(model.parameters(), lr=0.0001) \n",
    "\n",
    "        for epoch in range(epochs):\n",
    "            # Training \n",
    "            for batch in train_loader:\n",
    "                loss = model.training_step(batch)\n",
    "                loss.backward()\n",
    "                optimizer.step()\n",
    "                optimizer.zero_grad()\n",
    "\n",
    "            # Testing\n",
    "            result = self._evaluate(model, test_loader)\n",
    "            model.epoch_end(epoch, result)\n",
    "            history.append(result)\n",
    "            \n",
    "        return history\n",
    "\n",
    "    def _evaluate(self, model, test_loader):\n",
    "        outputs = [model.testing_step(batch) for batch in test_loader]\n",
    "        return model.testing_epoch_end(outputs)  "
   ]
  },
  {
   "cell_type": "markdown",
   "id": "2269d4ef",
   "metadata": {},
   "source": [
    "**Model 1: 2 Pdch types**"
   ]
  },
  {
   "cell_type": "code",
   "execution_count": 79,
   "id": "above-might",
   "metadata": {},
   "outputs": [
    {
     "name": "stdout",
     "output_type": "stream",
     "text": [
      "Epoch: 0 - Testing Loss: 19.2791, Testing Accuracy: 20.6000\n",
      "Epoch: 1 - Testing Loss: 4.2196, Testing Accuracy: 51.6600\n",
      "Epoch: 2 - Testing Loss: 2.6387, Testing Accuracy: 65.9300\n",
      "Epoch: 3 - Testing Loss: 1.9261, Testing Accuracy: 73.0800\n",
      "Epoch: 4 - Testing Loss: 1.5217, Testing Accuracy: 77.3300\n"
     ]
    }
   ],
   "source": [
    "m1_weightl2 = np.loadtxt(open(\"model1weightl2.txt\",\"rb\"),delimiter=\",\",skiprows=0)\n",
    "m1_weightout = np.loadtxt(open(\"model1weightout.txt\",\"rb\"),delimiter=\",\",skiprows=0)\n",
    "#convert to float\n",
    "model1 = FFNN()   \n",
    "\n",
    "#initalize weights in input layer\n",
    "weights_inputm1 = torch.tensor(m1_weightl2) \n",
    "model1.input_layer.weight.data = model1.input_layer.weight.data*0.0 + weights_inputm1\n",
    "\n",
    "#initalize weights in output layer\n",
    "weights_outputm1 = torch.tensor(m1_weightout)  \n",
    "model1.output_layer.weight.data = model1.output_layer.weight.data *0.0 + weights_outputm1\n",
    "\n",
    "model1.float()\n",
    "\n",
    "model1_trainer = ModelTrainer()\n",
    "\n",
    "training_historym1 = []\n",
    "training_historym1 += model1_trainer.fit(model1, train_loader, test_loader)\n",
    "\n",
    "model1_2acc = list_acc(training_historym1)\n",
    "model1_2loss = list_loss(training_historym1)"
   ]
  },
  {
   "cell_type": "markdown",
   "id": "b164560b",
   "metadata": {},
   "source": [
    "**Model 2: 2 Pdch types**"
   ]
  },
  {
   "cell_type": "code",
   "execution_count": 80,
   "id": "b6d5e5bb",
   "metadata": {},
   "outputs": [
    {
     "name": "stdout",
     "output_type": "stream",
     "text": [
      "Epoch: 0 - Testing Loss: 2.2853, Testing Accuracy: 47.7900\n",
      "Epoch: 1 - Testing Loss: 1.1366, Testing Accuracy: 70.1200\n",
      "Epoch: 2 - Testing Loss: 0.7815, Testing Accuracy: 78.5200\n",
      "Epoch: 3 - Testing Loss: 0.6236, Testing Accuracy: 82.7600\n",
      "Epoch: 4 - Testing Loss: 0.5369, Testing Accuracy: 85.3500\n"
     ]
    }
   ],
   "source": [
    "m2_weightl2 = np.loadtxt(open(\"model2weightl2.txt\",\"rb\"),delimiter=\",\",skiprows=0)\n",
    "m2_weightout = np.loadtxt(open(\"model2weightout.txt\",\"rb\"),delimiter=\",\",skiprows=0)\n",
    "\n",
    "#convert to float\n",
    "model2 = FFNN()   \n",
    "\n",
    "#initalize weights in input layer\n",
    "weights_inputm2 = torch.tensor(m2_weightl2) \n",
    "model2.input_layer.weight.data = model2.input_layer.weight.data*0.0 + weights_inputm2\n",
    "\n",
    "#initalize weights in output layer\n",
    "weights_outputm2 = torch.tensor(m2_weightout)  \n",
    "model2.output_layer.weight.data = model1.output_layer.weight.data *0.0 + weights_outputm2\n",
    "\n",
    "model2.float()\n",
    "\n",
    "model2_trainer = ModelTrainer()\n",
    "\n",
    "training_historym2 = []\n",
    "training_historym2 += model2_trainer.fit(model2, train_loader, test_loader)\n",
    "\n",
    "model2_2acc = list_acc(training_historym2)\n",
    "model2_2loss = list_loss(training_historym2)"
   ]
  },
  {
   "cell_type": "markdown",
   "id": "f4ee2ae7",
   "metadata": {},
   "source": [
    "**Basline 1: Gaussian weight distribution**"
   ]
  },
  {
   "cell_type": "code",
   "execution_count": 81,
   "id": "d8a78549",
   "metadata": {},
   "outputs": [
    {
     "name": "stdout",
     "output_type": "stream",
     "text": [
      "Epoch: 0 - Testing Loss: 0.6657, Testing Accuracy: 85.9700\n",
      "Epoch: 1 - Testing Loss: 0.4173, Testing Accuracy: 89.5300\n",
      "Epoch: 2 - Testing Loss: 0.3465, Testing Accuracy: 90.8300\n",
      "Epoch: 3 - Testing Loss: 0.3144, Testing Accuracy: 91.4100\n",
      "Epoch: 4 - Testing Loss: 0.2941, Testing Accuracy: 91.7400\n"
     ]
    }
   ],
   "source": [
    "gaussian_model = FFNN()\n",
    "\n",
    "def init_normal(m):\n",
    "        if type(m) == nn.Linear:\n",
    "            nn.init.normal_(m.weight, 0, 0.0357)\n",
    "            \n",
    "gaussian_model.apply(init_normal)           \n",
    "            \n",
    "model_trainer = ModelTrainer()\n",
    "\n",
    "model_trainer = ModelTrainer()\n",
    "\n",
    "training_history = []\n",
    "training_history += model_trainer.fit(gaussian_model, train_loader, test_loader)\n",
    "\n",
    "gaussian_acc = list_acc(training_history)\n",
    "gaussian_loss = list_loss(training_history)\n"
   ]
  },
  {
   "cell_type": "markdown",
   "id": "20df2cdd",
   "metadata": {},
   "source": [
    "**Basline 2: Non random weight distribution**"
   ]
  },
  {
   "cell_type": "code",
   "execution_count": 82,
   "id": "500dcb63",
   "metadata": {},
   "outputs": [
    {
     "name": "stdout",
     "output_type": "stream",
     "text": [
      "Epoch: 0 - Testing Loss: 2.3396, Testing Accuracy: 9.7400\n",
      "Epoch: 1 - Testing Loss: 2.0073, Testing Accuracy: 27.3100\n",
      "Epoch: 2 - Testing Loss: 1.5969, Testing Accuracy: 42.6000\n",
      "Epoch: 3 - Testing Loss: 1.3374, Testing Accuracy: 51.5500\n",
      "Epoch: 4 - Testing Loss: 1.1770, Testing Accuracy: 57.5600\n"
     ]
    }
   ],
   "source": [
    "nonrandom_model = FFNN()\n",
    "\n",
    "def init_constant(m):\n",
    "        if type(m) == nn.Linear:\n",
    "            nn.init.constant_(m.weight, 1)\n",
    "            \n",
    "nonrandom_model.apply(init_constant)           \n",
    "            \n",
    "model_trainer2 = ModelTrainer()\n",
    "\n",
    "training_history2 = []\n",
    "training_history2 += model_trainer2.fit(nonrandom_model, train_loader, test_loader)\n",
    "\n",
    "nonrandom_acc = list_acc(training_history2)\n",
    "nonrandom_loss = list_loss(training_history2)"
   ]
  },
  {
   "cell_type": "code",
   "execution_count": 83,
   "id": "44195bfb",
   "metadata": {},
   "outputs": [
    {
     "data": {
      "image/png": "[encoded data removed]",
      "text/plain": [
       "<Figure size 432x288 with 1 Axes>"
      ]
     },
     "metadata": {
      "needs_background": "light"
     },
     "output_type": "display_data"
    }
   ],
   "source": [
    "plt.plot(model1_2acc, label = \"Model 1\")\n",
    "plt.plot(model2_2acc, label = \"Model 2\")\n",
    "plt.plot(gaussian_acc, label = \"Random Weight Distribution\")\n",
    "plt.plot(nonrandom_acc, label = \"Non-random Weight Distribution\")\n",
    "plt.title('Learning with 2 Pdch types')\n",
    "plt.xlabel('Epoch')\n",
    "plt.ylabel('Accuracy')\n",
    "plt.legend()\n",
    "plt.show()"
   ]
  },
  {
   "cell_type": "markdown",
   "id": "a2fad74e",
   "metadata": {},
   "source": [
    "**Model 1: 3 Pdch**"
   ]
  },
  {
   "cell_type": "code",
   "execution_count": 84,
   "id": "347be9bd",
   "metadata": {},
   "outputs": [
    {
     "name": "stdout",
     "output_type": "stream",
     "text": [
      "Epoch: 0 - Testing Loss: 15.8895, Testing Accuracy: 27.2500\n",
      "Epoch: 1 - Testing Loss: 3.5167, Testing Accuracy: 53.1100\n",
      "Epoch: 2 - Testing Loss: 1.6730, Testing Accuracy: 68.5700\n",
      "Epoch: 3 - Testing Loss: 1.2090, Testing Accuracy: 74.9800\n",
      "Epoch: 4 - Testing Loss: 0.9577, Testing Accuracy: 79.3200\n"
     ]
    }
   ],
   "source": [
    "m1p3_weightl2 = np.loadtxt(open(\"model1weightl2_3.txt\",\"rb\"),delimiter=\",\",skiprows=0)\n",
    "m1p3_weightout = np.loadtxt(open(\"model1weightout_3.txt\",\"rb\"),delimiter=\",\",skiprows=0)\n",
    "#convert to float\n",
    "model1p3 = FFNN()   \n",
    "\n",
    "#initalize weights in input layer\n",
    "weights_inputm1p3 = torch.tensor(m1p3_weightl2) \n",
    "model1p3.input_layer.weight.data = model1p3.input_layer.weight.data*0.0 + weights_inputm1p3\n",
    "\n",
    "#initalize weights in output layer\n",
    "weights_outputm1p3 = torch.tensor(m1p3_weightout)  \n",
    "model1p3.output_layer.weight.data = model1p3.output_layer.weight.data *0.0 + weights_outputm1p3\n",
    "\n",
    "model1p3.float()\n",
    "\n",
    "model1p3_trainer = ModelTrainer()\n",
    "\n",
    "training_historym1p3 = []\n",
    "training_historym1p3 += model1p3_trainer.fit(model1p3, train_loader, test_loader)\n",
    "\n",
    "model1_3acc = list_acc(training_historym1p3)\n",
    "model1_3loss = list_loss(training_historym1p3)"
   ]
  },
  {
   "cell_type": "markdown",
   "id": "5be5476d",
   "metadata": {},
   "source": [
    "**Model 2: 3 Pdch**"
   ]
  },
  {
   "cell_type": "code",
   "execution_count": 85,
   "id": "8e0f1e37",
   "metadata": {},
   "outputs": [
    {
     "name": "stdout",
     "output_type": "stream",
     "text": [
      "Epoch: 0 - Testing Loss: 3.7757, Testing Accuracy: 24.7200\n",
      "Epoch: 1 - Testing Loss: 1.6787, Testing Accuracy: 55.3800\n",
      "Epoch: 2 - Testing Loss: 0.9937, Testing Accuracy: 71.7800\n",
      "Epoch: 3 - Testing Loss: 0.7168, Testing Accuracy: 79.0900\n",
      "Epoch: 4 - Testing Loss: 0.5763, Testing Accuracy: 83.7000\n"
     ]
    }
   ],
   "source": [
    "m2p3_weightl2 = np.loadtxt(open(\"model2weightl2_3.txt\",\"rb\"),delimiter=\",\",skiprows=0)\n",
    "m2p3_weightout = np.loadtxt(open(\"model2weightout_3.txt\",\"rb\"),delimiter=\",\",skiprows=0)\n",
    "#convert to float\n",
    "model2p3 = FFNN()   \n",
    "\n",
    "#initalize weights in input layer\n",
    "weights_inputm2p3 = torch.tensor(m2p3_weightl2) \n",
    "model2p3.input_layer.weight.data = model2p3.input_layer.weight.data*0.0 + weights_inputm2p3\n",
    "\n",
    "#initalize weights in output layer\n",
    "weights_outputm2p3 = torch.tensor(m2p3_weightout)  \n",
    "model2p3.output_layer.weight.data = model2p3.output_layer.weight.data *0.0 + weights_outputm2p3\n",
    "\n",
    "model2p3.float()\n",
    "\n",
    "model2p3_trainer = ModelTrainer()\n",
    "\n",
    "training_historym2p3 = []\n",
    "training_historym2p3 += model2p3_trainer.fit(model2p3, train_loader, test_loader)\n",
    "\n",
    "model2_3acc = list_acc(training_historym2p3)\n",
    "model2_3loss = list_loss(training_historym2p3)"
   ]
  },
  {
   "cell_type": "markdown",
   "id": "4f7e410c",
   "metadata": {},
   "source": [
    "**Model 1: 6 Pdch**"
   ]
  },
  {
   "cell_type": "code",
   "execution_count": 86,
   "id": "58c1c9cf",
   "metadata": {},
   "outputs": [
    {
     "name": "stdout",
     "output_type": "stream",
     "text": [
      "Epoch: 0 - Testing Loss: 5.0430, Testing Accuracy: 46.1900\n",
      "Epoch: 1 - Testing Loss: 0.9859, Testing Accuracy: 71.4100\n",
      "Epoch: 2 - Testing Loss: 0.7179, Testing Accuracy: 79.5000\n",
      "Epoch: 3 - Testing Loss: 0.5926, Testing Accuracy: 83.0500\n",
      "Epoch: 4 - Testing Loss: 0.5149, Testing Accuracy: 85.4300\n"
     ]
    }
   ],
   "source": [
    "m1p6_weightl2 = np.loadtxt(open(\"model1weightl2_6.txt\",\"rb\"),delimiter=\",\",skiprows=0)\n",
    "m1p6_weightout = np.loadtxt(open(\"model1weightout_6.txt\",\"rb\"),delimiter=\",\",skiprows=0)\n",
    "#convert to float\n",
    "model1p6 = FFNN()   \n",
    "\n",
    "#initalize weights in input layer\n",
    "weights_inputm1p6 = torch.tensor(m1p6_weightl2) \n",
    "model1p6.input_layer.weight.data = model1p6.input_layer.weight.data*0.0 + weights_inputm1p6\n",
    "\n",
    "#initalize weights in output layer\n",
    "weights_outputm1p6 = torch.tensor(m1p6_weightout)  \n",
    "model1p6.output_layer.weight.data = model1p6.output_layer.weight.data *0.0 + weights_outputm1p6\n",
    "\n",
    "model1p6.float()\n",
    "\n",
    "model1p6_trainer = ModelTrainer()\n",
    "\n",
    "training_historym1p6 = []\n",
    "training_historym1p6 += model1p6_trainer.fit(model1p6, train_loader, test_loader)\n",
    "\n",
    "model1_6acc = list_acc(training_historym1p6)\n",
    "model1_6loss = list_loss(training_historym1p6)"
   ]
  },
  {
   "cell_type": "markdown",
   "id": "8dd88c38",
   "metadata": {},
   "source": [
    "**Model 2: 6 Pdch**"
   ]
  },
  {
   "cell_type": "code",
   "execution_count": 87,
   "id": "8181d165",
   "metadata": {},
   "outputs": [
    {
     "name": "stdout",
     "output_type": "stream",
     "text": [
      "Epoch: 0 - Testing Loss: 1.3157, Testing Accuracy: 60.9200\n",
      "Epoch: 1 - Testing Loss: 0.7361, Testing Accuracy: 77.5500\n",
      "Epoch: 2 - Testing Loss: 0.5439, Testing Accuracy: 83.7400\n",
      "Epoch: 3 - Testing Loss: 0.4542, Testing Accuracy: 86.6400\n",
      "Epoch: 4 - Testing Loss: 0.3990, Testing Accuracy: 88.3100\n"
     ]
    }
   ],
   "source": [
    "m2p6_weightl2 = np.loadtxt(open(\"model2weightl2_6.txt\",\"rb\"),delimiter=\",\",skiprows=0)\n",
    "m2p6_weightout = np.loadtxt(open(\"model2weightout_6.txt\",\"rb\"),delimiter=\",\",skiprows=0)\n",
    "#convert to float\n",
    "model2p6 = FFNN()   \n",
    "\n",
    "#initalize weights in input layer\n",
    "weights_inputm2p6 = torch.tensor(m2p6_weightl2) \n",
    "model2p6.input_layer.weight.data = model2p6.input_layer.weight.data*0.0 + weights_inputm2p6\n",
    "\n",
    "#initalize weights in output layer\n",
    "weights_outputm2p6 = torch.tensor(m2p6_weightout)  \n",
    "model2p6.output_layer.weight.data = model2p6.output_layer.weight.data *0.0 + weights_outputm2p6\n",
    "\n",
    "model2p6.float()\n",
    "\n",
    "model2p6_trainer = ModelTrainer()\n",
    "\n",
    "training_historym2p6 = []\n",
    "training_historym2p6 += model2p6_trainer.fit(model2p6, train_loader, test_loader)\n",
    "\n",
    "model2_6acc = list_acc(training_historym2p6)\n",
    "model2_6loss = list_loss(training_historym2p6)"
   ]
  },
  {
   "cell_type": "markdown",
   "id": "5a2b6a77",
   "metadata": {},
   "source": [
    "**Model 1: 9 Pdch**"
   ]
  },
  {
   "cell_type": "code",
   "execution_count": 88,
   "id": "30438f95",
   "metadata": {},
   "outputs": [
    {
     "name": "stdout",
     "output_type": "stream",
     "text": [
      "Epoch: 0 - Testing Loss: 7.5051, Testing Accuracy: 30.5200\n",
      "Epoch: 1 - Testing Loss: 1.2708, Testing Accuracy: 64.3500\n",
      "Epoch: 2 - Testing Loss: 0.8255, Testing Accuracy: 75.8700\n",
      "Epoch: 3 - Testing Loss: 0.6637, Testing Accuracy: 80.3900\n",
      "Epoch: 4 - Testing Loss: 0.5669, Testing Accuracy: 83.5500\n"
     ]
    }
   ],
   "source": [
    "m1p9_weightl2 = np.loadtxt(open(\"model1weightl2_9.txt\",\"rb\"),delimiter=\",\",skiprows=0)\n",
    "m1p9_weightout = np.loadtxt(open(\"model1weightout_9.txt\",\"rb\"),delimiter=\",\",skiprows=0)\n",
    "\n",
    "model1p9 = FFNN()   \n",
    "\n",
    "#initalize weights in input layer\n",
    "weights_inputm1p9 = torch.tensor(m1p9_weightl2) \n",
    "model1p9.input_layer.weight.data = model1p9.input_layer.weight.data*0.0 + weights_inputm1p9\n",
    "\n",
    "#initalize weights in output layer\n",
    "weights_outputm1p9 = torch.tensor(m1p9_weightout)  \n",
    "model1p9.output_layer.weight.data = model1p9.output_layer.weight.data *0.0 + weights_outputm1p9\n",
    "\n",
    "model1p9.float()\n",
    "\n",
    "model1p9_trainer = ModelTrainer()\n",
    "\n",
    "training_historym1p9 = []\n",
    "training_historym1p9 += model1p9_trainer.fit(model1p9, train_loader, test_loader)\n",
    "\n",
    "model1_9acc = list_acc(training_historym1p9)\n",
    "model1_9loss = list_loss(training_historym1p9)"
   ]
  },
  {
   "cell_type": "markdown",
   "id": "fd3faa02",
   "metadata": {},
   "source": [
    "**Model 2: 9 Pdch**"
   ]
  },
  {
   "cell_type": "code",
   "execution_count": 89,
   "id": "9619aff5",
   "metadata": {},
   "outputs": [
    {
     "name": "stdout",
     "output_type": "stream",
     "text": [
      "Epoch: 0 - Testing Loss: 2.3675, Testing Accuracy: 51.0500\n",
      "Epoch: 1 - Testing Loss: 1.1962, Testing Accuracy: 71.0700\n",
      "Epoch: 2 - Testing Loss: 0.8095, Testing Accuracy: 78.9000\n",
      "Epoch: 3 - Testing Loss: 0.6366, Testing Accuracy: 83.5600\n",
      "Epoch: 4 - Testing Loss: 0.5399, Testing Accuracy: 85.9000\n"
     ]
    }
   ],
   "source": [
    "m2p9_weightl2 = np.loadtxt(open(\"model2weightl2_9.txt\",\"rb\"),delimiter=\",\",skiprows=0)\n",
    "m2p9_weightout = np.loadtxt(open(\"model2weightout_9.txt\",\"rb\"),delimiter=\",\",skiprows=0)\n",
    "#convert to float\n",
    "model2p9 = FFNN()   \n",
    "\n",
    "#initalize weights in input layer\n",
    "weights_inputm2p9 = torch.tensor(m2p9_weightl2) \n",
    "model2p9.input_layer.weight.data = model2p9.input_layer.weight.data*0.0 + weights_inputm2p9\n",
    "\n",
    "#initalize weights in output layer\n",
    "weights_outputm2p9 = torch.tensor(m2p9_weightout)  \n",
    "model2p9.output_layer.weight.data = model2p9.output_layer.weight.data *0.0 + weights_outputm2p9\n",
    "\n",
    "model2p9.float()\n",
    "\n",
    "model2p9_trainer = ModelTrainer()\n",
    "\n",
    "training_historym2p9 = []\n",
    "training_historym2p9 += model2p9_trainer.fit(model2p9, train_loader, test_loader)\n",
    "\n",
    "model2_9acc = list_acc(training_historym2p9)\n",
    "model2_9loss = list_loss(training_historym2p9)"
   ]
  },
  {
   "cell_type": "markdown",
   "id": "0958d44f",
   "metadata": {},
   "source": [
    "**Model 1: 12 Pdch**"
   ]
  },
  {
   "cell_type": "code",
   "execution_count": 90,
   "id": "c6f8f999",
   "metadata": {},
   "outputs": [
    {
     "name": "stdout",
     "output_type": "stream",
     "text": [
      "Epoch: 0 - Testing Loss: 5.0689, Testing Accuracy: 46.0400\n",
      "Epoch: 1 - Testing Loss: 0.8963, Testing Accuracy: 72.3500\n",
      "Epoch: 2 - Testing Loss: 0.6536, Testing Accuracy: 80.4000\n",
      "Epoch: 3 - Testing Loss: 0.5433, Testing Accuracy: 83.9700\n",
      "Epoch: 4 - Testing Loss: 0.4787, Testing Accuracy: 85.9100\n"
     ]
    }
   ],
   "source": [
    "m1p12_weightl2 = np.loadtxt(open(\"model1weightl2_12.txt\",\"rb\"),delimiter=\",\",skiprows=0)\n",
    "m1p12_weightout = np.loadtxt(open(\"model1weightout_12.txt\",\"rb\"),delimiter=\",\",skiprows=0)\n",
    "\n",
    "model1p12 = FFNN()   \n",
    "\n",
    "#initalize weights in input layer\n",
    "weights_inputm1p12 = torch.tensor(m1p12_weightl2) \n",
    "model1p12.input_layer.weight.data = model1p12.input_layer.weight.data*0.0 + weights_inputm1p12\n",
    "\n",
    "#initalize weights in output layer\n",
    "weights_outputm1p12 = torch.tensor(m1p12_weightout)  \n",
    "model1p12.output_layer.weight.data = model1p12.output_layer.weight.data *0.0 + weights_outputm1p12\n",
    "\n",
    "model1p12.float()\n",
    "\n",
    "model1p12_trainer = ModelTrainer()\n",
    "\n",
    "training_historym1p12 = []\n",
    "training_historym1p12 += model1p12_trainer.fit(model1p12, train_loader, test_loader)\n",
    "\n",
    "model1_12acc = list_acc(training_historym1p12)\n",
    "model1_12loss = list_loss(training_historym1p12)"
   ]
  },
  {
   "cell_type": "markdown",
   "id": "d4b2f347",
   "metadata": {},
   "source": [
    "**Model 2: 12 Pdch**"
   ]
  },
  {
   "cell_type": "code",
   "execution_count": 91,
   "id": "b317e181",
   "metadata": {},
   "outputs": [
    {
     "name": "stdout",
     "output_type": "stream",
     "text": [
      "Epoch: 0 - Testing Loss: 1.3931, Testing Accuracy: 60.1700\n",
      "Epoch: 1 - Testing Loss: 0.7112, Testing Accuracy: 77.9300\n",
      "Epoch: 2 - Testing Loss: 0.5183, Testing Accuracy: 84.2900\n",
      "Epoch: 3 - Testing Loss: 0.4310, Testing Accuracy: 87.1900\n",
      "Epoch: 4 - Testing Loss: 0.3828, Testing Accuracy: 88.7400\n"
     ]
    }
   ],
   "source": [
    "m2p12_weightl2 = np.loadtxt(open(\"model2weightl2_12.txt\",\"rb\"),delimiter=\",\",skiprows=0)\n",
    "m2p12_weightout = np.loadtxt(open(\"model2weightout_12.txt\",\"rb\"),delimiter=\",\",skiprows=0)\n",
    "#convert to float\n",
    "model2p12 = FFNN()   \n",
    "\n",
    "#initalize weights in input layer\n",
    "weights_inputm2p12 = torch.tensor(m2p12_weightl2) \n",
    "model2p12.input_layer.weight.data = model2p12.input_layer.weight.data*0.0 + weights_inputm2p12\n",
    "\n",
    "#initalize weights in output layer\n",
    "weights_outputm2p12 = torch.tensor(m2p12_weightout)  \n",
    "model2p12.output_layer.weight.data = model2p12.output_layer.weight.data *0.0 + weights_outputm2p12\n",
    "\n",
    "model2p12.float()\n",
    "\n",
    "model2p12_trainer = ModelTrainer()\n",
    "\n",
    "training_historym2p12 = []\n",
    "training_historym2p12 += model2p9_trainer.fit(model2p12, train_loader, test_loader)\n",
    "\n",
    "model2_12acc = list_acc(training_historym2p12)\n",
    "model2_12loss = list_loss(training_historym2p12)"
   ]
  },
  {
   "cell_type": "markdown",
   "id": "91da5934",
   "metadata": {},
   "source": [
    "**Model 1: 15 Pdch**"
   ]
  },
  {
   "cell_type": "code",
   "execution_count": 92,
   "id": "ef547f3e",
   "metadata": {},
   "outputs": [
    {
     "name": "stdout",
     "output_type": "stream",
     "text": [
      "Epoch: 0 - Testing Loss: 2.7882, Testing Accuracy: 38.3900\n",
      "Epoch: 1 - Testing Loss: 1.1208, Testing Accuracy: 66.3600\n",
      "Epoch: 2 - Testing Loss: 0.7514, Testing Accuracy: 77.3300\n",
      "Epoch: 3 - Testing Loss: 0.5945, Testing Accuracy: 82.2900\n",
      "Epoch: 4 - Testing Loss: 0.5094, Testing Accuracy: 84.9200\n"
     ]
    }
   ],
   "source": [
    "m1p15_weightl2 = np.loadtxt(open(\"model1weightl2_15.txt\",\"rb\"),delimiter=\",\",skiprows=0)\n",
    "m1p15_weightout = np.loadtxt(open(\"model1weightout_15.txt\",\"rb\"),delimiter=\",\",skiprows=0)\n",
    "\n",
    "model1p15 = FFNN()   \n",
    "\n",
    "#initalize weights in input layer\n",
    "weights_inputm1p15 = torch.tensor(m1p15_weightl2) \n",
    "model1p15.input_layer.weight.data = model1p15.input_layer.weight.data*0.0 + weights_inputm1p15\n",
    "\n",
    "#initalize weights in output layer\n",
    "weights_outputm1p15 = torch.tensor(m1p15_weightout)  \n",
    "model1p15.output_layer.weight.data = model1p15.output_layer.weight.data *0.0 + weights_outputm1p15\n",
    "\n",
    "model1p15.float()\n",
    "\n",
    "model1p15_trainer = ModelTrainer()\n",
    "\n",
    "training_historym1p15 = []\n",
    "training_historym1p15 += model1p15_trainer.fit(model1p15, train_loader, test_loader)\n",
    "\n",
    "model1_15acc = list_acc(training_historym1p15)\n",
    "model1_15loss = list_loss(training_historym1p15)"
   ]
  },
  {
   "cell_type": "markdown",
   "id": "1c21daa6",
   "metadata": {},
   "source": [
    "**Model 2: 15 Pdch**"
   ]
  },
  {
   "cell_type": "code",
   "execution_count": 94,
   "id": "d4fb89fc",
   "metadata": {},
   "outputs": [
    {
     "name": "stdout",
     "output_type": "stream",
     "text": [
      "Epoch: 0 - Testing Loss: 3.3499, Testing Accuracy: 40.6000\n",
      "Epoch: 1 - Testing Loss: 1.5476, Testing Accuracy: 63.2800\n",
      "Epoch: 2 - Testing Loss: 0.9852, Testing Accuracy: 74.1700\n",
      "Epoch: 3 - Testing Loss: 0.7424, Testing Accuracy: 79.7900\n",
      "Epoch: 4 - Testing Loss: 0.6158, Testing Accuracy: 83.1700\n"
     ]
    }
   ],
   "source": [
    "m2p15_weightl2 = np.loadtxt(open(\"model2weightl2_15.txt\",\"rb\"),delimiter=\",\",skiprows=0)\n",
    "m2p15_weightout = np.loadtxt(open(\"model2weightout_15.txt\",\"rb\"),delimiter=\",\",skiprows=0)\n",
    "\n",
    "model2p15 = FFNN()   \n",
    "\n",
    "#initalize weights in input layer\n",
    "weights_inputm2p15 = torch.tensor(m2p15_weightl2) \n",
    "model2p15.input_layer.weight.data = model2p15.input_layer.weight.data*0.0 + weights_inputm2p15\n",
    "\n",
    "#initalize weights in output layer\n",
    "weights_outputm2p15 = torch.tensor(m2p15_weightout)  \n",
    "model2p15.output_layer.weight.data = model2p15.output_layer.weight.data *0.0 + weights_outputm2p15\n",
    "\n",
    "model2p15.float()\n",
    "\n",
    "model2p15_trainer = ModelTrainer()\n",
    "\n",
    "training_historym2p15 = []\n",
    "training_historym2p15 += model2p15_trainer.fit(model2p15, train_loader, test_loader)\n",
    "\n",
    "model2_15acc = list_acc(training_historym2p15)\n",
    "model2_15loss = list_loss(training_historym2p15)"
   ]
  },
  {
   "cell_type": "code",
   "execution_count": 95,
   "id": "c65a5d2e",
   "metadata": {},
   "outputs": [
    {
     "data": {
      "image/png": "[encoded data removed]",
      "text/plain": [
       "<Figure size 432x288 with 1 Axes>"
      ]
     },
     "metadata": {
      "needs_background": "light"
     },
     "output_type": "display_data"
    }
   ],
   "source": [
    "plt.plot(model1_15acc, label = \"Model 1\")\n",
    "plt.plot(model2_15acc, label = \"Model 2\")\n",
    "plt.plot(gaussian_acc, label = \"Random Weight Distribution\")\n",
    "plt.plot(nonrandom_acc, label = \"Non-random Weight Distribution\")\n",
    "plt.title('Learning with 15 Pdch types')\n",
    "plt.xlabel('Epoch')\n",
    "plt.ylabel('Accuracy')\n",
    "plt.legend()\n",
    "plt.show()"
   ]
  },
  {
   "cell_type": "code",
   "execution_count": 97,
   "id": "6c47272f",
   "metadata": {},
   "outputs": [
    {
     "data": {
      "image/png": "[encoded data removed]",
      "text/plain": [
       "<Figure size 432x288 with 1 Axes>"
      ]
     },
     "metadata": {
      "needs_background": "light"
     },
     "output_type": "display_data"
    }
   ],
   "source": [
    "plt.plot(model1_2acc, label = \"2\")\n",
    "plt.plot(model1_3acc, label = \"3\")\n",
    "plt.plot(model1_6acc, label = \"6\")\n",
    "plt.plot(model1_9acc, label = \"9\")\n",
    "plt.plot(model1_12acc, label = \"12\")\n",
    "plt.plot(model1_15acc, label = \"15\")\n",
    "plt.plot(gaussian_acc, label = \"Random Weight Distribution\")\n",
    "plt.plot(nonrandom_acc, label = \"Non-random Weight Distribution\")\n",
    "plt.title('Accuracy in Model 1 across various pdch type amounts')\n",
    "plt.xlabel('Epoch')\n",
    "plt.ylabel('Accuracy')\n",
    "plt.legend()\n",
    "plt.show()"
   ]
  },
  {
   "cell_type": "code",
   "execution_count": 100,
   "id": "bb94c9d5",
   "metadata": {},
   "outputs": [
    {
     "data": {
      "image/png": "[encoded data removed]",
      "text/plain": [
       "<Figure size 432x288 with 1 Axes>"
      ]
     },
     "metadata": {
      "needs_background": "light"
     },
     "output_type": "display_data"
    }
   ],
   "source": [
    "plt.plot(model1_2loss, label = \"2\")\n",
    "plt.plot(model1_3loss, label = \"3\")\n",
    "plt.plot(model1_6loss, label = \"6\")\n",
    "plt.plot(model1_9loss, label = \"9\")\n",
    "plt.plot(model1_12loss, label = \"12\")\n",
    "plt.plot(model1_15loss, label = \"15\")\n",
    "plt.plot(gaussian_loss, label = \"Random Weight Distribution\")\n",
    "plt.plot(nonrandom_loss, label = \"Non-random Weight Distribution\")\n",
    "plt.title('Loss in Model 1 across various pdch type amounts')\n",
    "plt.xlabel('Epoch')\n",
    "plt.ylabel('Loss')\n",
    "plt.legend()\n",
    "plt.show()"
   ]
  },
  {
   "cell_type": "code",
   "execution_count": 98,
   "id": "b6b20378",
   "metadata": {},
   "outputs": [
    {
     "data": {
      "image/png": "[encoded data removed]",
      "text/plain": [
       "<Figure size 432x288 with 1 Axes>"
      ]
     },
     "metadata": {
      "needs_background": "light"
     },
     "output_type": "display_data"
    }
   ],
   "source": [
    "plt.plot(model2_2acc, label = \"2\")\n",
    "plt.plot(model2_3acc, label = \"3\")\n",
    "plt.plot(model2_6acc, label = \"6\")\n",
    "plt.plot(model2_9acc, label = \"9\")\n",
    "plt.plot(model2_12acc, label = \"12\")\n",
    "plt.plot(model2_15acc, label = \"15\")\n",
    "plt.plot(gaussian_acc, label = \"Random Weight Distribution\")\n",
    "plt.plot(nonrandom_acc, label = \"Non-random Weight Distribution\")\n",
    "plt.title('Accuracy in Model 2 across various pdch type amounts')\n",
    "plt.xlabel('Epoch')\n",
    "plt.ylabel('Accuracy')\n",
    "plt.legend()\n",
    "plt.show()"
   ]
  }
 ],
 "metadata": {
  "kernelspec": {
   "display_name": "Python 3",
   "language": "python",
   "name": "python3"
  },
  "language_info": {
   "codemirror_mode": {
    "name": "ipython",
    "version": 3
   },
   "file_extension": ".py",
   "mimetype": "text/x-python",
   "name": "python",
   "nbconvert_exporter": "python",
   "pygments_lexer": "ipython3",
   "version": "3.7.9"
  }
 },
 "nbformat": 4,
 "nbformat_minor": 5
}
