{
 "cells": [
  {
   "cell_type": "code",
   "execution_count": 156,
   "id": "private-finish",
   "metadata": {},
   "outputs": [],
   "source": [
    "import numpy as np\n",
    "import random\n",
    "from numpy.linalg import norm\n",
    "import matplotlib.pyplot as plt\n",
    "import matplotlib.ticker as mtick"
   ]
  },
  {
   "cell_type": "markdown",
   "id": "thorough-resistance",
   "metadata": {},
   "source": [
    "Create a matrix with information of the amount of each type of protocadherin in each neuron. In the model below, there are only two types of protocadherins"
   ]
  },
  {
   "cell_type": "code",
   "execution_count": 157,
   "id": "bridal-brief",
   "metadata": {
    "scrolled": false
   },
   "outputs": [
    {
     "data": {
      "image/png": "[encoded data removed]",
      "text/plain": [
       "<Figure size 432x288 with 1 Axes>"
      ]
     },
     "metadata": {
      "needs_background": "light"
     },
     "output_type": "display_data"
    },
    {
     "data": {
      "image/png": "[encoded data removed]",
      "text/plain": [
       "<Figure size 432x288 with 1 Axes>"
      ]
     },
     "metadata": {
      "needs_background": "light"
     },
     "output_type": "display_data"
    }
   ],
   "source": [
    "#Assign variables                                 \n",
    "num_neurons = 872        #number of neurons\n",
    "num_pdch = 100          #total number of Pdch per neuron\n",
    "types = 2\n",
    "\n",
    "#Create matrix of zeros\n",
    "#Each vector in the matrix will hold information on a neuron.\n",
    "#Each value in the vector will represent how much of a specific Pdch there is in that neurons\n",
    "#Ex, [20, 30, 50] --> 20 Pdch of type 1, 30 Pdch of type 2, 50 Pdch of type 3\n",
    "matrix = np.zeros((num_neurons, types))          \n",
    "\n",
    "#Assign random combination of Pdch amounts to a neuron so total pdch adds up to 100. \n",
    "\n",
    "def random_assigment(n, total):                                  #n = how many pdch types, #total = total pdch amount\n",
    "    dividers = sorted(random.sample(range(0, total), n+1))\n",
    "    return [a - b for a, b in zip(dividers + [total], [0] + dividers)]\n",
    "\n",
    "      \n",
    "#Assign random pdch amounts for each neurons\n",
    "x = -1\n",
    "for i in range(num_neurons):                                   \n",
    "    x = x + 1\n",
    "    y = -1\n",
    "    random_vector = random_assigment(types, num_pdch) \n",
    "    for j in range(types):\n",
    "        y = y + 1      \n",
    "        matrix[x][y] = random_vector[y]\n",
    "\n",
    "\n",
    "plt.hist(matrix[:, [0]], bins = 25)\n",
    "plt.gca().set(title=\"Pdch %i: Distribution of Pdch Type 1\" %types, ylabel='Frequency');\n",
    "plt.show()\n",
    "\n",
    "plt.hist(matrix[:, [1]], bins = 25)\n",
    "plt.gca().set(title=\"Pdch %i: Distribution of Pdch Type 2\"%types, ylabel='Frequency');\n",
    "plt.show()\n",
    "\n",
    "#Normalize vector\n",
    "matrix = matrix/np.sum(matrix)"
   ]
  },
  {
   "cell_type": "markdown",
   "id": "sufficient-simpson",
   "metadata": {},
   "source": [
    "Create a matrix with Ecludian distances between neurons in different layers"
   ]
  },
  {
   "cell_type": "code",
   "execution_count": 158,
   "id": "proud-pioneer",
   "metadata": {},
   "outputs": [],
   "source": [
    "input_layer = np.arange(0,784)    #Separate all the neurons in the matrix with Pdch information into their layers\n",
    "inner_layer = np.arange(784, 862)\n",
    "output_layer = np.arange(862, 872)\n",
    "\n",
    "#Create Ecludian distance matrix between neurons in input and inner layer\n",
    "distance_l2 = np.zeros((78, 784))       #78 neurons in inner layer and 784 in input\n",
    "\n",
    "a = -1\n",
    "for i in range(78):\n",
    "    a = a + 1\n",
    "    b = -1\n",
    "    for j in range(784):\n",
    "        b = b + 1\n",
    "        Ecl_distance = norm(matrix[input_layer[b]]- matrix[inner_layer[a]]) #Calculate ecludian distance\n",
    "        distance_l2[a][b] =  Ecl_distance\n",
    "\n",
    "#Create Ecludian distance matrix between neurons in inner layer and output layer\n",
    "distance_out = np.zeros((10, 78))       #78 neurons in inner layer and 10 in ouput\n",
    "\n",
    "c = -1\n",
    "for i in range(10):\n",
    "    c = c + 1\n",
    "    d = -1\n",
    "    for j in range(78):\n",
    "        d = d + 1\n",
    "        Ecl_distance = norm(matrix[inner_layer[d]]- matrix[output_layer[c]]) #Ecludian distance\n",
    "        distance_out[c][d] = Ecl_distance\n",
    "        \n",
    "#normalize between 0 to 1\n",
    "#distance_l2 = (distance_l2 - distance_l2.min())/(distance_l2.max()-distance_l2.min())\n",
    "#distance_out = (distance_out - distance_out.min())/(distance_out.max()-distance_out.min())\n"
   ]
  },
  {
   "cell_type": "markdown",
   "id": "9303f71f",
   "metadata": {},
   "source": [
    "Calculate highest values of the two matrices."
   ]
  },
  {
   "cell_type": "code",
   "execution_count": 159,
   "id": "22576782",
   "metadata": {},
   "outputs": [],
   "source": [
    "#Find unique values of matrices\n",
    "unique_dl2 = np.unique(distance_l2)\n",
    "unique_dout = np.unique(distance_out)\n",
    "\n",
    "#Find max value of matrices\n",
    "maxdl2 = max(unique_dl2)\n",
    "maxdout = max(unique_dout)\n",
    "\n",
    "#Find second max value of matrices\n",
    "maxdl2_2 = max(unique_dl2[unique_dl2 != maxdl2])\n",
    "maxdout_2 = max(unique_dout[unique_dout != maxdout])\n",
    "\n",
    "#determine the highest and second highest maximum of the two matrices combined\n",
    "if maxdl2 > maxdout:                    \n",
    "    maxvalue = maxdl2\n",
    "else: \n",
    "    maxvalue = maxdl2"
   ]
  },
  {
   "cell_type": "markdown",
   "id": "89095bab",
   "metadata": {},
   "source": [
    "Calculate lowest values of the two matrices"
   ]
  },
  {
   "cell_type": "code",
   "execution_count": 160,
   "id": "dd20ff48",
   "metadata": {
    "scrolled": true
   },
   "outputs": [],
   "source": [
    "#Find min value of matrices\n",
    "mindl2 = min(unique_dl2)\n",
    "mindout = min(unique_dout)\n",
    "\n",
    "#determine the min the two matrices combined\n",
    "if mindl2 >= mindout:                    \n",
    "    minvalue = mindout\n",
    "else: \n",
    "    minvalue = mindl2 "
   ]
  },
  {
   "cell_type": "code",
   "execution_count": 161,
   "id": "6ff57b0f",
   "metadata": {},
   "outputs": [
    {
     "data": {
      "image/png": "[encoded data removed]",
      "text/plain": [
       "<Figure size 432x288 with 1 Axes>"
      ]
     },
     "metadata": {
      "needs_background": "light"
     },
     "output_type": "display_data"
    },
    {
     "data": {
      "image/png": "[encoded data removed]",
      "text/plain": [
       "<Figure size 432x288 with 1 Axes>"
      ]
     },
     "metadata": {
      "needs_background": "light"
     },
     "output_type": "display_data"
    }
   ],
   "source": [
    "#Normalize between 0-1\n",
    "distance_l2 = (distance_l2 - minvalue)/(maxvalue - minvalue)\n",
    "distance_out = (distance_out - minvalue)/(maxvalue - minvalue)\n",
    "#plot distribution of two matrices \n",
    "plt.hist(distance_l2.flatten(), bins=20)\n",
    "plt.gca().set(title='2 Pdch types: distances between input and hidden layer', ylabel='Frequency');\n",
    "plt.show()\n",
    "\n",
    "plt.hist(distance_out.flatten(), bins=20)\n",
    "plt.gca().set(title='2 Pdch types: distances between hidden and output layer', ylabel='Frequency');\n",
    "plt.show()"
   ]
  },
  {
   "cell_type": "code",
   "execution_count": 162,
   "id": "084563df",
   "metadata": {},
   "outputs": [
    {
     "name": "stdout",
     "output_type": "stream",
     "text": [
      "0.9947828508543873\n"
     ]
    }
   ],
   "source": [
    "#Find unique values of matrices\n",
    "unique_dl2 = np.unique(distance_l2)\n",
    "unique_dout = np.unique(distance_out)\n",
    "\n",
    "#Find max value of matrices\n",
    "maxdl2 = max(unique_dl2)\n",
    "maxdout = max(unique_dout)\n",
    "\n",
    "#Find second max value of matrices\n",
    "maxdl2_2 = max(unique_dl2[unique_dl2 != maxdl2])\n",
    "maxdout_2 = max(unique_dout[unique_dout != maxdout])\n",
    "\n",
    "#determine the highest and second highest maximum of the two matrices combined\n",
    "if maxdl2 > maxdout:                    \n",
    "    if maxdl2_2 >= maxdout:              \n",
    "        secondmax = maxdl2_2\n",
    "    else: \n",
    "        secondmax = maxdout\n",
    "if maxdl2 < maxdout:\n",
    "    if maxdout_2 >= maxdl2:\n",
    "        secondmax = maxdout_2\n",
    "    else: \n",
    "        secondmax = maxdl2\n",
    "    \n",
    "print(secondmax)"
   ]
  },
  {
   "cell_type": "markdown",
   "id": "sonic-sally",
   "metadata": {},
   "source": [
    "**Model 2**: Weights distributed in a way that complete similarity and no similarity between two vectors is given weight zero. Aside that, the higher the similarty (lower distance) the lower the weight between two neurons."
   ]
  },
  {
   "cell_type": "code",
   "execution_count": 195,
   "id": "horizontal-start",
   "metadata": {},
   "outputs": [
    {
     "data": {
      "image/png": "[encoded data removed]",
      "text/plain": [
       "<Figure size 432x288 with 1 Axes>"
      ]
     },
     "metadata": {
      "needs_background": "light"
     },
     "output_type": "display_data"
    },
    {
     "name": "stdout",
     "output_type": "stream",
     "text": [
      "0.00012512729774800507 3.626513822012233 1.1971284615336881e-09\n"
     ]
    }
   ],
   "source": [
    "#Create a skewed normal  distribution using the calculated distances\n",
    "from scipy.stats import skewnorm\n",
    "\n",
    "X = np.linspace(0, 1.1)    #range of distances/x-axis\n",
    "plt.plot(X, skewnorm.pdf(X,-500, secondmax+0.0025, 0.22))  #plot the skewed normal \n",
    "plt.gca().set(title='Skewed Normal Distribution for Weights', xlabel = 'Distance', ylabel='Weight'); \n",
    "plt.show()\n",
    "\n",
    "#weights at specific distances based on the skwewed normal distribution\n",
    "y = skewnorm.pdf(0.0, -500, secondmax+0.0025, 0.22)   \n",
    "y1 = skewnorm.pdf(secondmax, -500, secondmax+0.0025, 0.22)\n",
    "y2 = skewnorm.pdf(1.0, -500, secondmax+0.0025, 0.22)\n",
    "print(y, y1, y2)"
   ]
  },
  {
   "cell_type": "code",
   "execution_count": 196,
   "id": "allied-settlement",
   "metadata": {},
   "outputs": [],
   "source": [
    "#Create weight matrix between neurons in input and inner layer\n",
    "weight_l2 = np.zeros((78, 784))       \n",
    "\n",
    "a = -1\n",
    "for i in range(78):\n",
    "    a = a + 1\n",
    "    b = -1\n",
    "    for j in range(784):\n",
    "        b = b + 1\n",
    "        weight = skewnorm.pdf(distance_l2[a][b],-500, secondmax+0.0025, 0.22) #weight at specific distance based on the skwewed normal distribution\n",
    "        weight_l2[a][b] =  weight\n",
    "\n",
    "#Create Ecludian distance matrix between neurons in inner layer and output layer\n",
    "weight_out = np.zeros((10, 78))      \n",
    "\n",
    "c = -1\n",
    "for i in range(10):\n",
    "    c = c + 1\n",
    "    d = -1\n",
    "    for j in range(78):\n",
    "        d = d + 1\n",
    "        weight = skewnorm.pdf(distance_out[c][d],-500, secondmax+0.0025, 0.22)  #weight at specific distance based on the skwewed normal distribution\n",
    "        weight_out[c][d] =  weight\n",
    "        \n",
    "#for all values below 0.0177 (weight at max distance value/most disimillar) assign a weight of zero\n",
    "a = -1\n",
    "for i in range(78):\n",
    "    a = a + 1\n",
    "    b = -1\n",
    "    for j in range(784):\n",
    "        b = b + 1\n",
    "        if weight_l2[a][b] <= y:\n",
    "            weight_l2[a][b] =  0\n",
    "            \n",
    "c = -1\n",
    "for i in range(10):\n",
    "    c = c + 1\n",
    "    d = -1\n",
    "    for j in range(78):\n",
    "        d = d + 1\n",
    "        if weight_out[c][d] <= y:\n",
    "            weight_out[c][d] =  0"
   ]
  },
  {
   "cell_type": "code",
   "execution_count": null,
   "id": "f6deb509",
   "metadata": {},
   "outputs": [],
   "source": [
    "#normalize between 0 to 1\n",
    "weight_l2 = (weight_l2 - weight_l2.min())/(weight_l2.max()-weight_l2.min())\n",
    "weight_out = (weight_out - weight_out.min())/(weight_out.max()-weight_out.min())"
   ]
  },
  {
   "cell_type": "code",
   "execution_count": null,
   "id": "b7c74aa7",
   "metadata": {},
   "outputs": [],
   "source": [
    "#Randomly assign + and - values to weights (So exactly half has -)\n",
    "for i in range(61152):\n",
    "    x = np.random.randint(0,78)\n",
    "    y = np.random.randint(0,784)\n",
    "    weight_l2[x, y] = weight_l2[x , y]* -1\n",
    "    \n",
    "for i in range(780):\n",
    "    x = np.random.randint(0,10)\n",
    "    y = np.random.randint(0,78)\n",
    "    weight_out[x, y] = weight_out[x , y]* -1"
   ]
  },
  {
   "cell_type": "code",
   "execution_count": null,
   "id": "46fc9c0f",
   "metadata": {},
   "outputs": [],
   "source": [
    "#plot distribution of two matrices \n",
    "plt.hist(weight_l2.flatten(), bins=30)\n",
    "plt.gca().set(title='Model 2:Histogram for Weights in Input Layer', ylabel='Frequency');\n",
    "plt.show()\n",
    "\n",
    "plt.hist(weight_out.flatten(), bins=30)\n",
    "plt.gca().set(title='Model 2:Histogram for Weights in Hidden Layer', ylabel='Frequency');\n",
    "plt.show()"
   ]
  },
  {
   "cell_type": "code",
   "execution_count": null,
   "id": "residential-singles",
   "metadata": {},
   "outputs": [],
   "source": [
    "#Save weight matrix into txt file\n",
    "np.savetxt('model2weightl2.txt', weight_l2, delimiter = ',')  \n",
    "np.savetxt('model2weightout.txt', weight_out, delimiter = ',')  "
   ]
  },
  {
   "cell_type": "markdown",
   "id": "db07680a",
   "metadata": {},
   "source": [
    "**Weight Matrix based on Model 1**:Create a weight matrix using Ecludian distances. Weights distributed in a way that complete similarity between two vectors is given weight zero. Aside that, the higher the similarty (lower distance) the higher the weight between two neurons\n",
    "\n"
   ]
  },
  {
   "cell_type": "code",
   "execution_count": null,
   "id": "f4dd12db",
   "metadata": {},
   "outputs": [],
   "source": [
    "#Create a skewed normal  distribution using the calculated distances\n",
    "Y = np.linspace(-0.000025, maxvalue)    #range of distances/x-axis\n",
    "plt.plot(Y, skewnorm.pdf(Y, 300, minvalue, 0.00039))  #plot the skewed normal\n",
    "plt.ticklabel_format(axis='x', style='sci', scilimits=(0, 0))\n",
    "plt.gca().set(title='Skewed Normal Distribution for Weights', xlabel = 'Distance', ylabel='Weight'); \n",
    "plt.show()\n",
    "\n",
    "q = skewnorm.pdf(Y, 3000, minvalue- 0.000009, 0.00039)\n",
    "\n",
    "#weights at specific distances based on the skwewed normal distribution\n",
    "y = skewnorm.pdf(0.0,3000, minvalue- 0.000009, 0.00039) \n",
    "y1 = skewnorm.pdf(minvalue, 3000, minvalue- 0.000009, 0.00039)\n",
    "y2 = skewnorm.pdf(maxvalue, 3000, minvalue- 0.000009, 0.00039)\n",
    "print(y, y1, y2)\n"
   ]
  },
  {
   "cell_type": "code",
   "execution_count": null,
   "id": "997f42cb",
   "metadata": {},
   "outputs": [],
   "source": [
    "#Create weight matrix between neurons in input and inner layer\n",
    "weightm2_l2 = np.zeros((78, 784))       \n",
    "\n",
    "a = -1\n",
    "for i in range(78):\n",
    "    a = a + 1\n",
    "    b = -1\n",
    "    for j in range(784):\n",
    "        b = b + 1\n",
    "        weight = skewnorm.pdf(distance_l2[a][b], 3000, minvalue- 0.000009, 0.00039)  #weight at specific distance based on the skwewed normal distribution\n",
    "        weightm2_l2[a][b] =  weight\n",
    "\n",
    "#Create Ecludian distance matrix between neurons in inner layer and output layer\n",
    "weightm2_out = np.zeros((10, 78))      \n",
    "\n",
    "c = -1\n",
    "for i in range(10):\n",
    "    c = c + 1\n",
    "    d = -1\n",
    "    for j in range(78):\n",
    "        d = d + 1\n",
    "        weight = skewnorm.pdf(distance_out[c][d],3000, minvalue- 0.000009, 0.00039)  #weight at specific distance based on the skwewed normal distribution\n",
    "        weightm2_out[c][d] =  weight\n",
    "        \n",
    "#for all values below 0.0178 (weight at 0 distance/complete similarity) assign a weight of zero\n",
    "a = -1\n",
    "for i in range(78):\n",
    "    a = a + 1\n",
    "    b = -1\n",
    "    for j in range(784):\n",
    "        b = b + 1\n",
    "        if weightm2_l2[a][b] <= y2:\n",
    "            weightm2_l2[a][b] =  0\n",
    "            \n",
    "c = -1\n",
    "for i in range(10):\n",
    "    c = c + 1\n",
    "    d = -1\n",
    "    for j in range(78):\n",
    "        d = d + 1\n",
    "        if weight_out[c][d] <= y2:\n",
    "            weight_out[c][d] =  0\n",
    "            \n",
    "#normalize between 0 to 1\n",
    "weightm2_l2 = (weightm2_l2 - weightm2_l2.min())/(weightm2_l2.max()-weightm2_l2.min())\n",
    "weightm2_out = (weightm2_out - weightm2_out.min())/(weightm2_out.max()-weightm2_out.min())\n",
    "    "
   ]
  },
  {
   "cell_type": "code",
   "execution_count": null,
   "id": "fa31600f",
   "metadata": {},
   "outputs": [],
   "source": [
    "#Randomly assign + and - values to weights (So exactly half has -)\n",
    "for i in range(61152):\n",
    "    x = np.random.randint(0,78)\n",
    "    y = np.random.randint(0,784)\n",
    "    weightm2_l2[x, y] = weight_l2[x , y]* -1\n",
    "    \n",
    "for i in range(780):\n",
    "    x = np.random.randint(0,10)\n",
    "    y = np.random.randint(0,78)\n",
    "    weightm2_out[x, y] = weight_out[x , y]* -1"
   ]
  },
  {
   "cell_type": "code",
   "execution_count": null,
   "id": "fbea3775",
   "metadata": {},
   "outputs": [],
   "source": [
    "#plot distribution of two matrices \n",
    "plt.hist(weightm2_l2.flatten(), bins=30)\n",
    "plt.gca().set(title='Model 1: Histogram for Weights in Input Layer', ylabel='Frequency');\n",
    "plt.show()\n",
    "\n",
    "plt.hist(weightm2_out.flatten(), bins=30)\n",
    "plt.gca().set(title='Model 1:Histogram for Weights in Hidden Layer', ylabel='Frequency');\n",
    "plt.show()"
   ]
  },
  {
   "cell_type": "code",
   "execution_count": null,
   "id": "7ebf1f02",
   "metadata": {},
   "outputs": [],
   "source": [
    "#Save weight matrix into txt file\n",
    "np.savetxt('model1weightl2.txt', weightm2_l2, delimiter = ',')  \n",
    "np.savetxt('model1weightout.txt', weightm2_out, delimiter = ',')"
   ]
  }
 ],
 "metadata": {
  "kernelspec": {
   "display_name": "Python 3",
   "language": "python",
   "name": "python3"
  },
  "language_info": {
   "codemirror_mode": {
    "name": "ipython",
    "version": 3
   },
   "file_extension": ".py",
   "mimetype": "text/x-python",
   "name": "python",
   "nbconvert_exporter": "python",
   "pygments_lexer": "ipython3",
   "version": "3.7.9"
  }
 },
 "nbformat": 4,
 "nbformat_minor": 5
}
